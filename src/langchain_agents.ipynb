{
 "cells": [
  {
   "attachments": {},
   "cell_type": "markdown",
   "metadata": {},
   "source": [
    "## Agents\n",
    "The core idea of agents is to use a language model to choose a sequence of actions to take. In chains, a sequence of actions is hardcoded (in code). In agents, a language model is used as a reasoning engine to determine which actions to take and in which order."
   ]
  },
  {
   "cell_type": "code",
   "execution_count": 2,
   "metadata": {},
   "outputs": [
    {
     "name": "stdout",
     "output_type": "stream",
     "text": [
      "The dotenv extension is already loaded. To reload it, use:\n",
      "  %reload_ext dotenv\n"
     ]
    }
   ],
   "source": [
    "# openai key is loaded in .env file. load the environment variables\n",
    "%load_ext dotenv\n",
    "%dotenv\n"
   ]
  },
  {
   "attachments": {},
   "cell_type": "markdown",
   "metadata": {},
   "source": [
    "### Tool calling agent\n",
    "Tool calling allows a model to detect when one or more tools should be called and respond with the inputs that should be passed to those tools. "
   ]
  },
  {
   "attachments": {},
   "cell_type": "markdown",
   "metadata": {},
   "source": [
    "Use case: Let's load certificate pdf, mongodb certificate and query on those pdfs.\n",
    "Certificates and MongoDB pdf files are prety big. So we need to break certificate and mongodb files into pages."
   ]
  },
  {
   "cell_type": "code",
   "execution_count": 3,
   "metadata": {},
   "outputs": [],
   "source": [
    "# https://www.openmymind.net/mongodb.pdf\n",
    "# https://www.first.org/resources/guides/Establishing-a-Certification-Authority-CA.pdf\n",
    "from langchain_community.document_loaders import PyPDFLoader\n",
    "\n",
    "# load multiple pdf docs\n",
    "# Load the PdF document using langchain_community.document_loaders import PyPDFLoader\n",
    "certs_doc_loader = PyPDFLoader(\"https://www.first.org/resources/guides/Establishing-a-Certification-Authority-CA.pdf\")\n",
    "certs_doc_pages = certs_doc_loader.load_and_split()\n",
    "\n",
    "# loag \n",
    "# mongodb loader\n",
    "mongodb_doc_loader = PyPDFLoader(\"https://www.openmymind.net/mongodb.pdf\")\n",
    "mongodb_doc_pages = mongodb_doc_loader.load_and_split()"
   ]
  },
  {
   "attachments": {},
   "cell_type": "markdown",
   "metadata": {},
   "source": [
    "Embedding: Let's load embedding model"
   ]
  },
  {
   "cell_type": "code",
   "execution_count": 4,
   "metadata": {},
   "outputs": [
    {
     "name": "stderr",
     "output_type": "stream",
     "text": [
      "/Users/aryanraghav/workspace/langchain-learning/langchain-examples/venv/lib/python3.11/site-packages/tqdm/auto.py:21: TqdmWarning: IProgress not found. Please update jupyter and ipywidgets. See https://ipywidgets.readthedocs.io/en/stable/user_install.html\n",
      "  from .autonotebook import tqdm as notebook_tqdm\n",
      "/Users/aryanraghav/workspace/langchain-learning/langchain-examples/venv/lib/python3.11/site-packages/huggingface_hub/file_download.py:1132: FutureWarning: `resume_download` is deprecated and will be removed in version 1.0.0. Downloads always resume when possible. If you want to force a new download, use `force_download=True`.\n",
      "  warnings.warn(\n"
     ]
    }
   ],
   "source": [
    "# create embeddings\n",
    "from langchain_community.embeddings import HuggingFaceEmbeddings\n",
    "embeddings = HuggingFaceEmbeddings(model_name=\"sentence-transformers/all-MiniLM-L6-v2\")"
   ]
  },
  {
   "attachments": {},
   "cell_type": "markdown",
   "metadata": {},
   "source": [
    "Create Index: Load pages with embedding to Vector store"
   ]
  },
  {
   "cell_type": "code",
   "execution_count": 6,
   "metadata": {},
   "outputs": [],
   "source": [
    "from langchain_community.vectorstores import FAISS\n",
    "\n",
    "# create a vector store\n",
    "certs_vector = FAISS.from_documents(certs_doc_pages, embeddings)\n",
    "mongodb_vector = FAISS.from_documents(mongodb_doc_pages, embeddings)"
   ]
  },
  {
   "attachments": {},
   "cell_type": "markdown",
   "metadata": {},
   "source": [
    "Retriever: Create retriever for certificate and mongodb index"
   ]
  },
  {
   "cell_type": "code",
   "execution_count": 8,
   "metadata": {},
   "outputs": [],
   "source": [
    "certs_retriver = certs_vector.as_retriever(search_type=\"similarity\", search_kwargs={\"k\":4})\n",
    "# certs_response = certs_retriver.invoke(\"What is a Certification Authority?\")\n",
    "\n",
    "mongodb_retriver = mongodb_vector.as_retriever(search_type=\"similarity\", search_kwargs={\"k\": 4})\n",
    "# mongodb_response = mongodb_retriver.invoke(\"What is MongoDB?\")"
   ]
  },
  {
   "cell_type": "code",
   "execution_count": null,
   "metadata": {},
   "outputs": [],
   "source": [
    "Create Tool: Create retriever as tool for agents"
   ]
  },
  {
   "cell_type": "code",
   "execution_count": 9,
   "metadata": {},
   "outputs": [],
   "source": [
    "# crate certs_retriver and mongodb_retriver\n",
    "from langchain.tools.retriever import create_retriever_tool\n",
    "\n",
    "certs_retriver_tool = create_retriever_tool(\n",
    "    certs_retriver,\n",
    "    \"search_for_certification_details\",\n",
    "    \"Searches and returns information about the certification in the document.\",\n",
    ")\n",
    "\n",
    "mongodb_retriver_tool = create_retriever_tool(\n",
    "    mongodb_retriver,\n",
    "    \"search_for_mongodb_details\",\n",
    "    \"Searches and returns information about MongoDB in the document.\",\n",
    ")"
   ]
  },
  {
   "attachments": {},
   "cell_type": "markdown",
   "metadata": {},
   "source": [
    "Create Agent with tools"
   ]
  },
  {
   "cell_type": "code",
   "execution_count": 10,
   "metadata": {},
   "outputs": [],
   "source": [
    "tools = [certs_retriver_tool, mongodb_retriver_tool]\n",
    "\n",
    "# create agent\n",
    "from langchain_openai import ChatOpenAI\n",
    "from langchain.agents import create_tool_calling_agent, AgentExecutor\n",
    "from langchain import hub\n",
    "from os import getenv\n",
    "\n",
    "# llm\n",
    "llm_model = ChatOpenAI(openai_api_key=getenv(\"OPENAI_API_KEY\"))\n",
    "\n",
    "# Get the prompt to use - you can modify this!\n",
    "prompt = hub.pull(\"hwchase17/openai-tools-agent\")\n",
    "agent = create_tool_calling_agent(llm_model, tools, prompt)\n",
    "agent_executor = AgentExecutor(agent=agent, tools=tools, verbose=False)"
   ]
  },
  {
   "attachments": {},
   "cell_type": "markdown",
   "metadata": {},
   "source": [
    "Agent is ready for quering documents"
   ]
  },
  {
   "cell_type": "code",
   "execution_count": 12,
   "metadata": {},
   "outputs": [
    {
     "name": "stdout",
     "output_type": "stream",
     "text": [
      "Certificates are an essential part of a Certification Authority (CA) system. A Certificate Management System is used for maintaining all certificates, including creating, suspending, renewing, revoking, and deploying certificates. Subscribers are individuals or entities whose names appear as the subject in a certificate, and they assert the use of the key and certificate according to the Certificate Policy. Relying Parties rely on the validity of the binding of the Subscriber's name to a public key for various purposes.\n",
      "\n",
      "There are different components in a PKI ecosystem, such as Certification Authorities (CAs), Registration Authorities (RAs), and Trust Stores. CAs are responsible for signing digital certificates, which can be public CAs found on the Internet or private (internal) CAs located within organizations for secure operations. RAs act as the point of contact for individuals who want to get their certificate signed or revoked by the CA, and they verify the authenticity of the requester and perform necessary checks before the certificate is signed.\n",
      "\n",
      "Certificates play a crucial role in establishing trust and security in digital communications and transactions within an organization or on the Internet.\n"
     ]
    }
   ],
   "source": [
    "# Query certificates pdf\n",
    "certs_response = agent_executor.invoke({\"input\": \"what is certificates?\"})\n",
    "print(certs_response['output'])"
   ]
  },
  {
   "cell_type": "code",
   "execution_count": 13,
   "metadata": {},
   "outputs": [
    {
     "name": "stdout",
     "output_type": "stream",
     "text": [
      "MongoDB is a popular NoSQL database that is schema-less, meaning a collection isn't strict about what goes in it. Fields are tracked with each individual document. MongoDB uses a binary serialized JSON format called BSON. It allows for easy insertion of documents into collections using commands like `insert` and `find`. Each document must have a unique `_id` field, which can be generated by MongoDB or by the user. MongoDB offers powerful aggregation capabilities through features like Aggregation Pipeline and MapReduce. If you want to learn more about MongoDB, you can refer to resources like \"The Little MongoDB Book\" available on GitHub.\n"
     ]
    }
   ],
   "source": [
    "# Query MongoDB pdf\n",
    "mongodb_response = agent_executor.invoke({\"input\": \"what is Mongodb?\"})\n",
    "print(mongodb_response['output'])"
   ]
  },
  {
   "cell_type": "code",
   "execution_count": 14,
   "metadata": {},
   "outputs": [
    {
     "name": "stdout",
     "output_type": "stream",
     "text": [
      "### MongoDB:\n",
      "MongoDB is a popular NoSQL database management system. It is a document-oriented database, classified as a NoSQL database program that uses JSON-like documents with optional schemas.\n",
      "\n",
      "### Certificate:\n",
      "A certificate is a digital certificate, also known as a public key certificate, used to cryptographically link ownership of a public key with the entity that owns it. Digital certificates are used for sharing public keys to be used for encryption and authentication. Certificates are digitally signed by a Certification Authority (CA) and conform to the X.509 v3 standard.\n",
      "\n",
      "### How certificates are used in MongoDB:\n",
      "In MongoDB, certificates are used for authentication and encryption purposes. Certificate Management Systems are used to maintain all certificates, create, suspend, renew, revoke, and deploy certificates. Subscribers in MongoDB are entities whose names appear as the subject in a certificate, and Relying Parties rely on the validity of the binding of the Subscriber's name to a public key for verification. Trust Stores are maintained by web browsers and operating system vendors to store trusted Root CAs. PKI-aware applications, such as web servers, web browsers, and email clients, utilize certificates for various purposes.\n",
      "\n",
      "If you need more specific information or details, feel free to ask!\n"
     ]
    }
   ],
   "source": [
    "# Query both certificates and MongoDB pdf\n",
    "certs_mongodb_response = agent_executor.invoke({\"input\": \"what is Mongodb? What is certificate? How certificates are used in MongoDB?\"})\n",
    "print( certs_mongodb_response[\"output\"])"
   ]
  }
 ],
 "metadata": {
  "kernelspec": {
   "display_name": "venv",
   "language": "python",
   "name": "python3"
  },
  "language_info": {
   "codemirror_mode": {
    "name": "ipython",
    "version": 3
   },
   "file_extension": ".py",
   "mimetype": "text/x-python",
   "name": "python",
   "nbconvert_exporter": "python",
   "pygments_lexer": "ipython3",
   "version": "3.11.7"
  }
 },
 "nbformat": 4,
 "nbformat_minor": 2
}
