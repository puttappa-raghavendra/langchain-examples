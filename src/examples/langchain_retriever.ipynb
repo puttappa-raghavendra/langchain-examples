{
 "cells": [
  {
   "attachments": {},
   "cell_type": "markdown",
   "metadata": {},
   "source": [
    "## Document Loaders\n",
    "Load PdF from web"
   ]
  },
  {
   "cell_type": "code",
   "execution_count": 5,
   "metadata": {},
   "outputs": [
    {
     "name": "stdout",
     "output_type": "stream",
     "text": [
      "The dotenv extension is already loaded. To reload it, use:\n",
      "  %reload_ext dotenv\n"
     ]
    }
   ],
   "source": [
    "# load environment variables\n",
    "# openai key is loaded in .env file. load the environment variables\n",
    "%load_ext dotenv\n",
    "%dotenv\n"
   ]
  },
  {
   "attachments": {},
   "cell_type": "markdown",
   "metadata": {},
   "source": [
    "Import pdf document loader"
   ]
  },
  {
   "cell_type": "code",
   "execution_count": 7,
   "metadata": {},
   "outputs": [
    {
     "name": "stdout",
     "output_type": "stream",
     "text": [
      "66\n"
     ]
    }
   ],
   "source": [
    "from langchain_community.document_loaders import PyPDFLoader\n",
    "\n",
    "# Load the PdF document using langchain_community.document_loaders import PyPDFLoader\n",
    "loader = PyPDFLoader(\"https://www.first.org/resources/guides/Establishing-a-Certification-Authority-CA.pdf\")\n",
    "pages = loader.load_and_split()\n",
    "\n",
    "print(len(pages))"
   ]
  },
  {
   "attachments": {},
   "cell_type": "markdown",
   "metadata": {},
   "source": [
    "## Embeddings - use HuggingFace embedding\n",
    "Embeddings can be used to create a numerical representation of textual data. This numerical representation is useful because it can be used to find similar documents"
   ]
  },
  {
   "cell_type": "code",
   "execution_count": 8,
   "metadata": {},
   "outputs": [],
   "source": [
    "from langchain_community.embeddings import HuggingFaceEmbeddings\n",
    "embeddings = HuggingFaceEmbeddings(model_name=\"sentence-transformers/all-MiniLM-L6-v2\")\n"
   ]
  },
  {
   "attachments": {},
   "cell_type": "markdown",
   "metadata": {},
   "source": [
    "## Vector Database \n",
    "Vector databases provide the ability to store and retrieve vectors as high-dimensional points. They add additional capabilities for efficient and fast lookup of nearest-neighbors in the N-dimensional space."
   ]
  },
  {
   "cell_type": "code",
   "execution_count": 9,
   "metadata": {},
   "outputs": [],
   "source": [
    "from langchain_community.vectorstores import FAISS\n",
    "vector = FAISS.from_documents(pages, embeddings)"
   ]
  },
  {
   "attachments": {},
   "cell_type": "markdown",
   "metadata": {},
   "source": [
    "Retriver "
   ]
  },
  {
   "cell_type": "code",
   "execution_count": 12,
   "metadata": {},
   "outputs": [
    {
     "name": "stdout",
     "output_type": "stream",
     "text": [
      "5\n",
      "[Document(page_content='Thailand National Root Certification Authority : Thailand NRCA  \\nElectronic Transactio ns Development Agency  Establishing a CA  \\n \\n- 12 - \\n \\n1.2 The components of PKI  \\nThere are several components involved in PKI, combining s ervices and technologies. All  those r oles can be \\nperformed by the same organization, but some of them may be outsourced (with limitations).  \\n \\nFigure 6: Relationship of the various PKI components  \\n1.2.1 Certification Authority (CA)  \\nThe Certification Authority, or Certificate Authority (both names are used interchangeably), is the party that \\nsigns digital certificates.  \\nThere are 2 types of CAs: public and private. Public CAs are those vendors you can find on the Internet \\nwhen you are looking to buy a certificate. Private (a.k.a. Internal) CAs are an IT asset located inside \\norganizations, to create certificates needed by staff and devices for secure operations.  \\n1.2.2 Registration Authority (RA)  \\nThe Registration Authority is the point of contact for anyone who wants to get their certifi cate signed or \\nrevoked by the CA . Signing requires  a co-called Certificate Signing Request (CSR) . The RA is responsible for \\nverifying the request, the authenticity of the requester, ownership of the object for which a certificate is \\nneeded, and performing all other checks to make sure that the request is legitimate and complete.  \\nThe actual creation of the CSR file itself depends on your policy; either the Subscriber creates one \\nthemselves or the RA creates one on their behalf , or a combination thereof . \\nIf the request is accepted, it will be passed to the CA to sign the certificate.', metadata={'source': 'https://www.first.org/resources/guides/Establishing-a-Certification-Authority-CA.pdf', 'page': 13}), Document(page_content='Thailand National Root Certification Authority : Thailand NRCA  \\nElectronic Transactions Development Agency  Establishing a CA  \\n \\nPublication  \\n \\n \\n \\n \\n \\nEstablishing a Certification Authority ( CA) \\nVersion 1.1', metadata={'source': 'https://www.first.org/resources/guides/Establishing-a-Certification-Authority-CA.pdf', 'page': 0}), Document(page_content='Thailand National Root Certification Authority : Thailand NRCA  \\nElectronic Transactio ns Development Agency  Establishing a CA  \\n \\n- 21 - \\n \\n2) Certification Practice Statement (CPS)  \\nThis document describes the implementation of the above policy. Each CA (Root CA and any \\nIntermediate  CA) needs to create their own CPS.  These practice statements do not necessarily have \\nto be separate documents, but all services must be individually covered.  \\n \\nFigure 10: Relationship between CP and CPS  \\nThese together detail how the CA implemented the requirements and Best Practices to operate in a secure \\nand trustworthy manner.  \\nWhile the CP describes the options that may be used , and their minimum requirements, or stipulates that \\nthe CPS shall cover the detail s of items, it is important to realize that the CPS must describe exactly which \\nof the options are actually used and how . \\nEach CPS describes the policy implementation for their own lower level certificates.  So the Root CPS details \\nhow Intermediate certific ates are handled, while the Intermediate CAs will talk about Subscriber certificates.  \\nExamples of CP and CPS documents are easy to find, as Public Root CAs are required to publish theirs \\nonline on their websites4. \\nIf RFC 7382 is followed, the CP/CPS covers  the following areas:  \\n1) Introduction  \\nDescribes the CA itself, Overview , Document Name and Identification, PKI Participants, Certificate \\nUsage, Policy Administration, and Definitions and Acronyms.  \\n2) Publication and Repository Responsibilities  \\nDescribes Reposito ries, Publication of Certification Information, Time or Frequency of Publication, \\nand Access Controls on Repositories.  \\n                                                 \\n4 Thailand NRCA’s CP and CPS: https://www.nrca.go.th/publish.html', metadata={'source': 'https://www.first.org/resources/guides/Establishing-a-Certification-Authority-CA.pdf', 'page': 22}), Document(page_content=\"Thailand National Root Certification Authority : Thailand NRCA  \\nElectronic Transactio ns Development Agency  Establishing a CA  \\n \\n- 49 - \\n \\n5.1 Trust Service Providers  \\nUnder the EU eIDAS  regulation the definition of a trust service is:  \\nAn electronic service normally provided for remuneration which consists of:  \\n1) the creation, verification, and validation of electronic signatures, electronic seals or electronic \\ntimestamps, electronic registered delivery services and certificates related t o those services, or  \\n2) the creation, verification , and validation of certificates for website authentication; or  \\n3) the preservation of electronic signatures, seals or certificates related to those services.  \\nTSPs (Trust Service Providers) provide a combinati on of the above services – some only issue digital \\ncertificates, others provide electronic signature services as well. What is important is that all TSPs adhere \\nto the strict requirements that ensure the validity and security of the certificates, keys , and signatures they \\nprovide.   \\nTSPs must operate to a set of standards to ensure the security and validity of the certificates and \\nauthentication services they offer. The EU's eIDAS  regulation has helped standardize the requirements for \\nTSPs and provide organizations with a list of Eu ropean Commission approved companies that they can trust.\", metadata={'source': 'https://www.first.org/resources/guides/Establishing-a-Certification-Authority-CA.pdf', 'page': 50}), Document(page_content='Thailand National Root Certification Authority : Thailand NRCA  \\nElectronic Transactio ns Development Agency  Establishing a CA  \\n \\n- 22 - \\n \\n3) Identification and Authentication  \\nDescribes Naming, Initial Identity Validation, Identification and Authentication for Re -key Requests, \\nand Identification and Authentication for Revocation Request.  \\n4) Certificate Life Cycle Operational Requirements  \\nDescribes Certificate Application, Certificate Application Processing, Certificate Issuance, Certificate \\nAcceptance, Key Pair and Certificate Usage , Certificate Renewal, Certificate Re -key, Certificate \\nModification, Certificate Revocation and Suspension, and Certificate Status Services.  \\n5) Facility, Management, and Operational Controls  \\nDescribes Physical Controls , Procedural Controls, Personnel Controls , Audit Logging Procedures, \\nRecords Archival, Key Changeover, Compromise and Disaster Recovery, and CA or RA Termination.  \\n6) Technical Security Controls  \\nDescribes Key Pair Generation and Installation, Private Key Protection and Cryptographic Module \\nEngineerin g Controls, Other Aspects of Key Pair Management, Activation Data, Computer Security \\nControls, Life Cycle Technical Controls, Network Security Controls, and Time -Stamping.  \\n7) Certificate and CRL Profiles  \\nDescribes the details of certificates and profiles, suc h as algorithms used, key sizes and other \\nsettings.  \\n8) Compliance Audit and Other Assessments  \\nDescribes how and how often audits are performed.  \\n9) Other Business and Legal Matters  \\nDescribes  Fees, Financial Responsibility, Confidentiality of Business Information,  Privacy of Personal \\nInformation, Intellectual Property Rights (if Applicable), Representations and Warranties, Disclaimers \\nof Warranties, Limitations of Liability, Indemnities, Term and Termination, Individual Notices and \\nCommunications with Participants,  Amendments, Dispute Resolution Provisions, Governing Law, \\nCompliance with Applicable Law, and Miscellaneous Provisions.  \\nNote that Best Practices are improved upon regularly, so the CP and/or CPS should be reviewed annually.  \\n2.3 Infrastructure and security considerations  \\nIt has been a deliberate choice to order the activities such that the CP/CPS are created first, even if a formal, \\npublished, policy is not required if you are creating a Private (Internal) CA. Especially chapters 5 (Facility,', metadata={'source': 'https://www.first.org/resources/guides/Establishing-a-Certification-Authority-CA.pdf', 'page': 23})]\n",
      "5\n"
     ]
    }
   ],
   "source": [
    "response = vector.similarity_search(\"What is a Certification Authority?\",k=5)\n",
    "print(len(response))\n",
    "\n",
    "retriver = vector.as_retriever(search_type=\"similarity\", search_kwargs={\"k\": 5})\n",
    "response = retriver.invoke(\"What is a Certification Authority?\")\n",
    "print(response)\n",
    "print(len(response))\n"
   ]
  },
  {
   "cell_type": "code",
   "execution_count": 14,
   "metadata": {},
   "outputs": [
    {
     "name": "stdout",
     "output_type": "stream",
     "text": [
      "Response:= A Certification Authority is the party that signs digital certificates.\n",
      "Response:= An Intermediate Certification Authority (CA) is an entity that operates under the trust of a Root CA and can potentially be operated by third parties. It can be used for segmentation, where different use cases or services with different quality levels are managed under different Intermediate CAs.\n"
     ]
    }
   ],
   "source": [
    "from langchain_core.prompts import ChatPromptTemplate\n",
    "from langchain_openai import ChatOpenAI\n",
    "from langchain_core.runnables import RunnablePassthrough\n",
    "from langchain_core.output_parsers import StrOutputParser\n",
    "\n",
    "llm = ChatOpenAI(openai_api_key=getenv(\"OPENAI_API_KEY\"))\n",
    "\n",
    "template = '''Answer the question based only on the following context:\n",
    "<context>\n",
    "{context}\n",
    "<context>\n",
    "\n",
    "Question: {question}\n",
    "'''\n",
    "prompts = ChatPromptTemplate.from_template(template=template)\n",
    "# To make it as easy as possible to create custom chains, we’ve implemented a “Runnable” protocol.\n",
    "# Many LangChain components implement the Runnable protocol, including chat models, LLMs, output parsers, retrievers, prompt templates, and more.\n",
    "# Runnable to passthrough inputs unchanged or with additional keys.\n",
    "retriver_chain = (\n",
    "    { \"context\": retriver, \"question\": RunnablePassthrough()}\n",
    "    | prompts\n",
    "    | llm \n",
    "    | StrOutputParser()\n",
    ")\n",
    " \n",
    "from langchain_core.messages import HumanMessage\n",
    "response = retriver_chain.invoke(\"What is a Certification Authority?\")\n",
    "print(\"Response:=\", response)\n",
    "\n",
    "response = retriver_chain.invoke(\"What is a Intermediate Certification Authority?\")\n",
    "print(\"Response:=\", response)\n"
   ]
  }
 ],
 "metadata": {
  "kernelspec": {
   "display_name": "venv",
   "language": "python",
   "name": "python3"
  },
  "language_info": {
   "codemirror_mode": {
    "name": "ipython",
    "version": 3
   },
   "file_extension": ".py",
   "mimetype": "text/x-python",
   "name": "python",
   "nbconvert_exporter": "python",
   "pygments_lexer": "ipython3",
   "version": "3.12.1"
  }
 },
 "nbformat": 4,
 "nbformat_minor": 2
}
